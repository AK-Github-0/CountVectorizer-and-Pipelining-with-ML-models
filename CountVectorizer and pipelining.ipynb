{
 "cells": [
  {
   "cell_type": "code",
   "execution_count": 26,
   "id": "de5a8837",
   "metadata": {},
   "outputs": [],
   "source": [
    "import pandas as pd\n",
    "from sklearn.metrics import classification_report, confusion_matrix\n",
    "import nltk\n",
    "from sklearn.svm import SVC\n",
    "from sklearn.feature_extraction.text import CountVectorizer\n",
    "from sklearn.model_selection import train_test_split\n",
    "from sklearn.pipeline import Pipeline\n",
    "from sklearn.naive_bayes import MultinomialNB\n",
    "from sklearn.ensemble import RandomForestClassifier as RFC \n",
    "from sklearn.neighbors import KNeighborsClassifier as KNN\n",
    "from sklearn.naive_bayes import MultinomialNB as MNB\n",
    "import matplotlib.pyplot as plt\n",
    "df = pd.read_csv('IMDB Dataset.csv')"
   ]
  },
  {
   "cell_type": "code",
   "execution_count": 5,
   "id": "931bc858",
   "metadata": {},
   "outputs": [
    {
     "data": {
      "text/html": [
       "<div>\n",
       "<style scoped>\n",
       "    .dataframe tbody tr th:only-of-type {\n",
       "        vertical-align: middle;\n",
       "    }\n",
       "\n",
       "    .dataframe tbody tr th {\n",
       "        vertical-align: top;\n",
       "    }\n",
       "\n",
       "    .dataframe thead th {\n",
       "        text-align: right;\n",
       "    }\n",
       "</style>\n",
       "<table border=\"1\" class=\"dataframe\">\n",
       "  <thead>\n",
       "    <tr style=\"text-align: right;\">\n",
       "      <th></th>\n",
       "      <th>review</th>\n",
       "      <th>sentiment</th>\n",
       "    </tr>\n",
       "  </thead>\n",
       "  <tbody>\n",
       "    <tr>\n",
       "      <th>0</th>\n",
       "      <td>One of the other reviewers has mentioned that ...</td>\n",
       "      <td>positive</td>\n",
       "    </tr>\n",
       "    <tr>\n",
       "      <th>1</th>\n",
       "      <td>A wonderful little production. &lt;br /&gt;&lt;br /&gt;The...</td>\n",
       "      <td>positive</td>\n",
       "    </tr>\n",
       "    <tr>\n",
       "      <th>2</th>\n",
       "      <td>I thought this was a wonderful way to spend ti...</td>\n",
       "      <td>positive</td>\n",
       "    </tr>\n",
       "    <tr>\n",
       "      <th>3</th>\n",
       "      <td>Basically there's a family where a little boy ...</td>\n",
       "      <td>negative</td>\n",
       "    </tr>\n",
       "    <tr>\n",
       "      <th>4</th>\n",
       "      <td>Petter Mattei's \"Love in the Time of Money\" is...</td>\n",
       "      <td>positive</td>\n",
       "    </tr>\n",
       "  </tbody>\n",
       "</table>\n",
       "</div>"
      ],
      "text/plain": [
       "                                              review sentiment\n",
       "0  One of the other reviewers has mentioned that ...  positive\n",
       "1  A wonderful little production. <br /><br />The...  positive\n",
       "2  I thought this was a wonderful way to spend ti...  positive\n",
       "3  Basically there's a family where a little boy ...  negative\n",
       "4  Petter Mattei's \"Love in the Time of Money\" is...  positive"
      ]
     },
     "execution_count": 5,
     "metadata": {},
     "output_type": "execute_result"
    }
   ],
   "source": [
    "df.head()"
   ]
  },
  {
   "cell_type": "code",
   "execution_count": 6,
   "id": "42e2a9c1",
   "metadata": {},
   "outputs": [],
   "source": [
    "X=df.review"
   ]
  },
  {
   "cell_type": "code",
   "execution_count": 7,
   "id": "b37dede6",
   "metadata": {},
   "outputs": [],
   "source": [
    "y=df.sentiment"
   ]
  },
  {
   "cell_type": "code",
   "execution_count": 8,
   "id": "afd1f146",
   "metadata": {},
   "outputs": [],
   "source": [
    "X_train, X_test, y_train, y_test = train_test_split(X, y)"
   ]
  },
  {
   "cell_type": "markdown",
   "id": "7d669dc3",
   "metadata": {},
   "source": [
    "# Exercise 1"
   ]
  },
  {
   "cell_type": "code",
   "execution_count": 9,
   "id": "67f853c8",
   "metadata": {},
   "outputs": [
    {
     "data": {
      "text/plain": [
       "0.84072"
      ]
     },
     "execution_count": 9,
     "metadata": {},
     "output_type": "execute_result"
    }
   ],
   "source": [
    "pipe = Pipeline([('CV',CountVectorizer()), ('Randomforest', RFC(n_estimators=50,criterion = 'entropy'))])\n",
    "pipe.fit(X_train, y_train)\n",
    "pipe.score(X_test,y_test)"
   ]
  },
  {
   "cell_type": "code",
   "execution_count": 10,
   "id": "208b4273",
   "metadata": {},
   "outputs": [],
   "source": [
    "predicted = pipe.predict(X_test)\n",
    "report = classification_report(y_test,predicted)"
   ]
  },
  {
   "cell_type": "code",
   "execution_count": 11,
   "id": "4d2fee8b",
   "metadata": {},
   "outputs": [
    {
     "name": "stdout",
     "output_type": "stream",
     "text": [
      "              precision    recall  f1-score   support\n",
      "\n",
      "    negative       0.83      0.85      0.84      6148\n",
      "    positive       0.85      0.83      0.84      6352\n",
      "\n",
      "    accuracy                           0.84     12500\n",
      "   macro avg       0.84      0.84      0.84     12500\n",
      "weighted avg       0.84      0.84      0.84     12500\n",
      "\n"
     ]
    }
   ],
   "source": [
    "print(report)"
   ]
  },
  {
   "cell_type": "markdown",
   "id": "2e74200b",
   "metadata": {},
   "source": [
    "# Exercise 2"
   ]
  },
  {
   "cell_type": "code",
   "execution_count": 12,
   "id": "b33893d6",
   "metadata": {},
   "outputs": [
    {
     "data": {
      "text/plain": [
       "0.65168"
      ]
     },
     "execution_count": 12,
     "metadata": {},
     "output_type": "execute_result"
    }
   ],
   "source": [
    "pipe2 = Pipeline([('CV',CountVectorizer()), ('Randomforest', KNN(n_neighbors=10,metric = 'euclidean' ))])\n",
    "pipe2.fit(X_train, y_train)\n",
    "pipe2.score(X_test,y_test)"
   ]
  },
  {
   "cell_type": "code",
   "execution_count": 13,
   "id": "6b5344e0",
   "metadata": {},
   "outputs": [],
   "source": [
    "predicted = pipe.predict(X_test)\n",
    "report = classification_report(y_test,predicted)"
   ]
  },
  {
   "cell_type": "code",
   "execution_count": 14,
   "id": "6791aa21",
   "metadata": {},
   "outputs": [
    {
     "name": "stdout",
     "output_type": "stream",
     "text": [
      "              precision    recall  f1-score   support\n",
      "\n",
      "    negative       0.83      0.85      0.84      6148\n",
      "    positive       0.85      0.83      0.84      6352\n",
      "\n",
      "    accuracy                           0.84     12500\n",
      "   macro avg       0.84      0.84      0.84     12500\n",
      "weighted avg       0.84      0.84      0.84     12500\n",
      "\n"
     ]
    }
   ],
   "source": [
    "print(report)"
   ]
  },
  {
   "cell_type": "markdown",
   "id": "a22d35fe",
   "metadata": {},
   "source": [
    "# Exercise 3"
   ]
  },
  {
   "cell_type": "code",
   "execution_count": 15,
   "id": "baba7a79",
   "metadata": {},
   "outputs": [
    {
     "data": {
      "text/plain": [
       "0.84472"
      ]
     },
     "execution_count": 15,
     "metadata": {},
     "output_type": "execute_result"
    }
   ],
   "source": [
    "pipe2 = Pipeline([('CV',CountVectorizer()), ('MNB', MNB())])\n",
    "pipe2.fit(X_train, y_train)\n",
    "pipe2.score(X_test,y_test)"
   ]
  },
  {
   "cell_type": "code",
   "execution_count": 16,
   "id": "89a6b398",
   "metadata": {},
   "outputs": [],
   "source": [
    "predicted = pipe.predict(X_test)\n",
    "report = classification_report(y_test,predicted)"
   ]
  },
  {
   "cell_type": "code",
   "execution_count": 17,
   "id": "708ca09d",
   "metadata": {},
   "outputs": [
    {
     "name": "stdout",
     "output_type": "stream",
     "text": [
      "              precision    recall  f1-score   support\n",
      "\n",
      "    negative       0.83      0.85      0.84      6148\n",
      "    positive       0.85      0.83      0.84      6352\n",
      "\n",
      "    accuracy                           0.84     12500\n",
      "   macro avg       0.84      0.84      0.84     12500\n",
      "weighted avg       0.84      0.84      0.84     12500\n",
      "\n"
     ]
    }
   ],
   "source": [
    "print(report)"
   ]
  },
  {
   "cell_type": "code",
   "execution_count": 27,
   "id": "546e9d5c",
   "metadata": {},
   "outputs": [],
   "source": [
    "c = confusion_matrix(X_test,predicted)"
   ]
  },
  {
   "cell_type": "code",
   "execution_count": 28,
   "id": "3f5906d2",
   "metadata": {},
   "outputs": [
    {
     "data": {
      "text/plain": [
       "<matplotlib.image.AxesImage at 0x28605afd0>"
      ]
     },
     "execution_count": 28,
     "metadata": {},
     "output_type": "execute_result"
    },
    {
     "data": {
      "image/png": "[encoded data removed]",
      "text/plain": [
       "<Figure size 640x480 with 1 Axes>"
      ]
     },
     "metadata": {},
     "output_type": "display_data"
    }
   ],
   "source": [
    "plt.imshow(c)"
   ]
  },
  {
   "cell_type": "code",
   "execution_count": null,
   "id": "9487c0e8",
   "metadata": {},
   "outputs": [],
   "source": []
  }
 ],
 "metadata": {
  "kernelspec": {
   "display_name": "Python 3 (ipykernel)",
   "language": "python",
   "name": "python3"
  },
  "language_info": {
   "codemirror_mode": {
    "name": "ipython",
    "version": 3
   },
   "file_extension": ".py",
   "mimetype": "text/x-python",
   "name": "python",
   "nbconvert_exporter": "python",
   "pygments_lexer": "ipython3",
   "version": "3.9.16"
  }
 },
 "nbformat": 4,
 "nbformat_minor": 5
}
